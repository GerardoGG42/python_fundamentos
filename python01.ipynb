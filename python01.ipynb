{
 "cells": [
  {
   "cell_type": "code",
   "execution_count": 1,
   "id": "3758288c",
   "metadata": {},
   "outputs": [
    {
     "name": "stdout",
     "output_type": "stream",
     "text": [
      "Epale mundo!\n"
     ]
    }
   ],
   "source": [
    "print(\"Epale mundo!\")"
   ]
  },
  {
   "cell_type": "markdown",
   "id": "9ef637fd",
   "metadata": {},
   "source": [
    "# Python fundamentos\n",
    "* Variables\n",
    "* Tipos de datos\n",
    "    - Strings\n",
    "    - Enteros\n",
    "    - Flotantes\n",
    "    - Listas\n",
    "    - Diccionarios\n",
    "    - Tuplas\n",
    "* Operadores\n",
    "    - Matemáticos\n",
    "    - Comparación\n",
    "    - Lógicos\n",
    "* Estructuras de control\n",
    "    - Condicionales"
   ]
  },
  {
   "cell_type": "code",
   "execution_count": 11,
   "id": "d8d98cce",
   "metadata": {},
   "outputs": [],
   "source": [
    " # variables\n",
    "name = \"Ada\"\n",
    "age = 30"
   ]
  },
  {
   "cell_type": "code",
   "execution_count": 12,
   "id": "4215297b",
   "metadata": {},
   "outputs": [
    {
     "data": {
      "text/plain": [
       "'Ada'"
      ]
     },
     "execution_count": 12,
     "metadata": {},
     "output_type": "execute_result"
    }
   ],
   "source": [
    "name"
   ]
  },
  {
   "cell_type": "code",
   "execution_count": 13,
   "id": "8879edbf",
   "metadata": {},
   "outputs": [],
   "source": [
    "last_name = \"Amarillo\""
   ]
  },
  {
   "cell_type": "code",
   "execution_count": 14,
   "id": "583c2f70",
   "metadata": {},
   "outputs": [],
   "source": [
    "# operadores matemáticos\n",
    "number1 = 10\n",
    "number2 = 5\n",
    "result_sum = number1 + number2\n",
    "result_subtraction = number1 - number2\n",
    "result_multiplication = number1 * number2\n",
    "result_division = number1 / number2\n"
   ]
  },
  {
   "cell_type": "code",
   "execution_count": 15,
   "id": "35910729",
   "metadata": {},
   "outputs": [
    {
     "data": {
      "text/plain": [
       "2.0"
      ]
     },
     "execution_count": 15,
     "metadata": {},
     "output_type": "execute_result"
    }
   ],
   "source": [
    "result_division"
   ]
  },
  {
   "cell_type": "code",
   "execution_count": 16,
   "id": "d3447c8e",
   "metadata": {},
   "outputs": [
    {
     "name": "stdout",
     "output_type": "stream",
     "text": [
      "15\n",
      "5\n",
      "50\n",
      "2.0\n"
     ]
    }
   ],
   "source": [
    "print(result_sum)\n",
    "print(result_subtraction)\n",
    "print(result_multiplication)\n",
    "print(result_division)\n"
   ]
  },
  {
   "cell_type": "code",
   "execution_count": 18,
   "id": "e17edbdc",
   "metadata": {},
   "outputs": [
    {
     "name": "stdout",
     "output_type": "stream",
     "text": [
      "El resultado de la suma es: 15\n",
      "El resultado de la resta es: 5\n",
      "El resultado de la multiplicación es: 50\n",
      "El resultado de la división es: 2.0\n"
     ]
    }
   ],
   "source": [
    "print(f\"El resultado de la suma es: {result_sum}\")\n",
    "print(f\"El resultado de la resta es: {result_subtraction}\")\n",
    "print(f\"El resultado de la multiplicación es: {result_multiplication}\")\n",
    "print(f\"El resultado de la división es: {result_division}\")"
   ]
  }
 ],
 "metadata": {
  "kernelspec": {
   "display_name": ".venv",
   "language": "python",
   "name": "python3"
  },
  "language_info": {
   "codemirror_mode": {
    "name": "ipython",
    "version": 3
   },
   "file_extension": ".py",
   "mimetype": "text/x-python",
   "name": "python",
   "nbconvert_exporter": "python",
   "pygments_lexer": "ipython3",
   "version": "3.13.3"
  }
 },
 "nbformat": 4,
 "nbformat_minor": 5
}
