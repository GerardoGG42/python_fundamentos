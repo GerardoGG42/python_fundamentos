{
 "cells": [
  {
   "cell_type": "code",
   "execution_count": 1,
   "id": "3758288c",
   "metadata": {},
   "outputs": [
    {
     "name": "stdout",
     "output_type": "stream",
     "text": [
      "Epale mundo!\n"
     ]
    }
   ],
   "source": [
    "print(\"Epale mundo!\")"
   ]
  },
  {
   "cell_type": "markdown",
   "id": "9ef637fd",
   "metadata": {},
   "source": [
    "# Python fundamentos\n",
    "* Variables\n",
    "* Tipos de datos\n",
    "    - Strings\n",
    "    - Enteros\n",
    "    - Flotantes\n",
    "    - Listas\n",
    "    - Diccionarios\n",
    "    - Tuplas\n",
    "* Operadores\n",
    "    - Matemáticos\n",
    "    - Comparación\n",
    "    - Lógicos\n",
    "* Estructuras de control\n",
    "    - Condicionales"
   ]
  },
  {
   "cell_type": "code",
   "execution_count": 11,
   "id": "d8d98cce",
   "metadata": {},
   "outputs": [],
   "source": [
    " # variables\n",
    "name = \"Ada\"\n",
    "age = 30"
   ]
  },
  {
   "cell_type": "code",
   "execution_count": 12,
   "id": "4215297b",
   "metadata": {},
   "outputs": [
    {
     "data": {
      "text/plain": [
       "'Ada'"
      ]
     },
     "execution_count": 12,
     "metadata": {},
     "output_type": "execute_result"
    }
   ],
   "source": [
    "name"
   ]
  },
  {
   "cell_type": "code",
   "execution_count": 13,
   "id": "8879edbf",
   "metadata": {},
   "outputs": [],
   "source": [
    "last_name = \"Amarillo\""
   ]
  },
  {
   "cell_type": "code",
   "execution_count": 14,
   "id": "583c2f70",
   "metadata": {},
   "outputs": [],
   "source": [
    "# operadores matemáticos\n",
    "number1 = 10\n",
    "number2 = 5\n",
    "result_sum = number1 + number2\n",
    "result_subtraction = number1 - number2\n",
    "result_multiplication = number1 * number2\n",
    "result_division = number1 / number2\n"
   ]
  },
  {
   "cell_type": "code",
   "execution_count": 15,
   "id": "35910729",
   "metadata": {},
   "outputs": [
    {
     "data": {
      "text/plain": [
       "2.0"
      ]
     },
     "execution_count": 15,
     "metadata": {},
     "output_type": "execute_result"
    }
   ],
   "source": [
    "result_division"
   ]
  },
  {
   "cell_type": "code",
   "execution_count": 16,
   "id": "d3447c8e",
   "metadata": {},
   "outputs": [
    {
     "name": "stdout",
     "output_type": "stream",
     "text": [
      "15\n",
      "5\n",
      "50\n",
      "2.0\n"
     ]
    }
   ],
   "source": [
    "print(result_sum)\n",
    "print(result_subtraction)\n",
    "print(result_multiplication)\n",
    "print(result_division)\n"
   ]
  },
  {
   "cell_type": "code",
   "execution_count": 18,
   "id": "e17edbdc",
   "metadata": {},
   "outputs": [
    {
     "name": "stdout",
     "output_type": "stream",
     "text": [
      "El resultado de la suma es: 15\n",
      "El resultado de la resta es: 5\n",
      "El resultado de la multiplicación es: 50\n",
      "El resultado de la división es: 2.0\n"
     ]
    }
   ],
   "source": [
    "print(f\"El resultado de la suma es: {result_sum}\")\n",
    "print(f\"El resultado de la resta es: {result_subtraction}\")\n",
    "print(f\"El resultado de la multiplicación es: {result_multiplication}\")\n",
    "print(f\"El resultado de la división es: {result_division}\")"
   ]
  },
  {
   "cell_type": "code",
   "execution_count": null,
   "id": "d3913a4f",
   "metadata": {},
   "outputs": [],
   "source": [
    "# Operadores de comparación\n",
    "# Coperacion de igualdad ==\n",
    "# Comparación de desigualdad !=\n",
    "# Comparación mayor que >\n",
    "# Comparación menor que <\n",
    "# Comparación mayor o igual que >=\n",
    "# Comparación menor o igual que <=\n",
    "\n"
   ]
  },
  {
   "cell_type": "code",
   "execution_count": null,
   "id": "727ab4cb",
   "metadata": {},
   "outputs": [],
   "source": [
    "# Condicionales simples\n",
    "# if condicional: \n",
    "#   # codigo a ejecutar si la condicion es verdadera\n"
   ]
  },
  {
   "cell_type": "code",
   "execution_count": null,
   "id": "d5cf1c4f",
   "metadata": {},
   "outputs": [],
   "source": [
    "# condicional simple\n",
    "if 3=3\n",
    "    print(\"La condición es verdadera\")"
   ]
  },
  {
   "cell_type": "code",
   "execution_count": 2,
   "id": "9abd9a05",
   "metadata": {},
   "outputs": [
    {
     "name": "stdout",
     "output_type": "stream",
     "text": [
      "Hoy es lunes\n"
     ]
    }
   ],
   "source": [
    "day = \"Lunes\"\n",
    "if day == \"Lunes\":\n",
    "    print(\"Hoy es lunes\")"
   ]
  },
  {
   "cell_type": "code",
   "execution_count": 1,
   "id": "99aebcc6",
   "metadata": {},
   "outputs": [],
   "source": [
    "day = \"lunes\"\n",
    "if day == \"Lunes\":\n",
    "    print(\"Hoy es lunes\")"
   ]
  },
  {
   "cell_type": "code",
   "execution_count": null,
   "id": "e15d31ed",
   "metadata": {},
   "outputs": [
    {
     "name": "stdout",
     "output_type": "stream",
     "text": [
      "Hoy es lunes\n"
     ]
    }
   ],
   "source": [
    "day = input(\"Ingrese el día de la semana: \")\n",
    "if day == \"Lunes\":\n",
    "    print(\"Hoy es lunes\")"
   ]
  },
  {
   "cell_type": "code",
   "execution_count": 5,
   "id": "1f5cf155",
   "metadata": {},
   "outputs": [
    {
     "name": "stdout",
     "output_type": "stream",
     "text": [
      "Hoy no es lunes\n"
     ]
    }
   ],
   "source": [
    "day = input(\"Ingrese el día de la semana: \")\n",
    "if day == \"Lunes\":\n",
    "    print(\"Hoy es lunes\")\n",
    "else:\n",
    "    print(\"Hoy no es lunes\")"
   ]
  },
  {
   "cell_type": "code",
   "execution_count": null,
   "id": "cedd3dec",
   "metadata": {},
   "outputs": [
    {
     "name": "stdout",
     "output_type": "stream",
     "text": [
      "Hoy es domingo\n"
     ]
    }
   ],
   "source": [
    "# condicionales encadenados para el fin de semana\n",
    "day = input(\"Ingrese el día de la semana: \")\n",
    "\n",
    "if day == \"sábado\":\n",
    "    print(\"Hoy es sábado\")\n",
    "elif day == \"domingo\":\n",
    "    print(\"Hoy es domingo\")\n",
    "else: \n",
    "    print(\"Hoy no es sábado ni domingo\")"
   ]
  },
  {
   "cell_type": "code",
   "execution_count": 10,
   "id": "824913dc",
   "metadata": {},
   "outputs": [
    {
     "name": "stdout",
     "output_type": "stream",
     "text": [
      "Hoy es sábado a las 03:00\n"
     ]
    }
   ],
   "source": [
    "# Condicionales anidados\n",
    "day = input(\"Ingrese el día de la semana: \")\n",
    "hora= input(\"Ingrese la hora( formato HH:mm): \")\n",
    "\n",
    "if day == \"sábado\":\n",
    "    if hora == \"03:00\":\n",
    "        print(\"Hoy es sábado a las 03:00\")\n",
    "    else:\n",
    "        print(\"Hoy es sábado, pero no es a las 03:00\")"
   ]
  },
  {
   "cell_type": "code",
   "execution_count": null,
   "id": "ff441e8c",
   "metadata": {},
   "outputs": [],
   "source": [
    "# Condicionales anidados\n",
    "day = input(\"Ingrese el día de la semana: \")\n",
    "hora= input(\"Ingrese la hora( formato HH:mm): \")\n",
    "\n",
    "if day == \"sábado\":\n",
    "    if hora == \"03:00\":\n",
    "        print(\"Hoy es sábado a las 03:00\")\n",
    "    else:\n",
    "        print(\"No tengo clases\")\n",
    "else: \n",
    "    print(\"Hoy no es sábado, no tengo clases, que bien\")"
   ]
  },
  {
   "cell_type": "code",
   "execution_count": null,
   "id": "5d9e91c1",
   "metadata": {},
   "outputs": [],
   "source": [
    "# Condicionales anidados\n",
    "day = input(\"Ingrese el día de la semana: \")\n",
    "hora= input(\"Ingrese la hora( formato HH:mm): \")\n",
    "\n",
    "if day == \"sábado\":\n",
    "    hora = input(\"Ingrese la hora( formato HH:mm): \")\n",
    "    if hora == \"03:00\":\n",
    "        print(\"Hoy es sábado a las 03:00\")\n",
    "    else:\n",
    "        print(\"No tengo clases\")\n",
    "else: \n",
    "    print(\"Hoy no es sábado, no tengo clases, que bien\")"
   ]
  },
  {
   "cell_type": "code",
   "execution_count": null,
   "id": "1c1e8de5",
   "metadata": {},
   "outputs": [],
   "source": [
    "# operadores lógicos\n",
    "# and (y)\n",
    "# or (o)\n",
    "# not (no)"
   ]
  },
  {
   "cell_type": "code",
   "execution_count": 11,
   "id": "7d0e5194",
   "metadata": {},
   "outputs": [
    {
     "name": "stdout",
     "output_type": "stream",
     "text": [
      "Hoy es sábado y tengo clase\n"
     ]
    }
   ],
   "source": [
    "# Condicionales anidados\n",
    "day = input(\"Ingrese el día de la semana: \")\n",
    "hora= input(\"Ingrese la hora( formato HH:mm): \")\n",
    "\n",
    "if (day == \"sábado\") and (hora == \"03:00\"):\n",
    "    print(\"Hoy es sábado y tengo clase\")"
   ]
  },
  {
   "cell_type": "code",
   "execution_count": 12,
   "id": "6fb0bf30",
   "metadata": {},
   "outputs": [
    {
     "data": {
      "text/plain": [
       "False"
      ]
     },
     "execution_count": 12,
     "metadata": {},
     "output_type": "execute_result"
    }
   ],
   "source": [
    "True and False"
   ]
  },
  {
   "cell_type": "code",
   "execution_count": 13,
   "id": "d26fe943",
   "metadata": {},
   "outputs": [
    {
     "data": {
      "text/plain": [
       "True"
      ]
     },
     "execution_count": 13,
     "metadata": {},
     "output_type": "execute_result"
    }
   ],
   "source": [
    "True or False "
   ]
  },
  {
   "cell_type": "code",
   "execution_count": 15,
   "id": "928e5f05",
   "metadata": {},
   "outputs": [],
   "source": [
    "# listas\n",
    "names = [\"Saul\", \"Juan\", \"Gandul\", \"Pepa\"]\n",
    "ages = [30, 25, 40, 35]\n",
    "pesos = [70.5, 80.2, 65.0, 90.1]"
   ]
  },
  {
   "cell_type": "code",
   "execution_count": 26,
   "id": "94ece79e",
   "metadata": {},
   "outputs": [],
   "source": [
    "#            01234567\n",
    "#                -2-1\n",
    "last_name = \"Amarillo\""
   ]
  },
  {
   "cell_type": "code",
   "execution_count": 18,
   "id": "e5d6ff33",
   "metadata": {},
   "outputs": [
    {
     "data": {
      "text/plain": [
       "'amarillo'"
      ]
     },
     "execution_count": 18,
     "metadata": {},
     "output_type": "execute_result"
    }
   ],
   "source": [
    "last_name.lower()"
   ]
  },
  {
   "cell_type": "code",
   "execution_count": 27,
   "id": "770bce5d",
   "metadata": {},
   "outputs": [
    {
     "data": {
      "text/plain": [
       "'a'"
      ]
     },
     "execution_count": 27,
     "metadata": {},
     "output_type": "execute_result"
    }
   ],
   "source": [
    "last_name[2]"
   ]
  },
  {
   "cell_type": "code",
   "execution_count": 28,
   "id": "a4bc3997",
   "metadata": {},
   "outputs": [
    {
     "data": {
      "text/plain": [
       "'Saul'"
      ]
     },
     "execution_count": 28,
     "metadata": {},
     "output_type": "execute_result"
    }
   ],
   "source": [
    "names[0]"
   ]
  },
  {
   "cell_type": "code",
   "execution_count": 29,
   "id": "b9cc4b27",
   "metadata": {},
   "outputs": [
    {
     "data": {
      "text/plain": [
       "['Saul', 'Juan', 'Gandul']"
      ]
     },
     "execution_count": 29,
     "metadata": {},
     "output_type": "execute_result"
    }
   ],
   "source": [
    "names[0:3]"
   ]
  },
  {
   "cell_type": "code",
   "execution_count": 30,
   "id": "2c5be124",
   "metadata": {},
   "outputs": [
    {
     "data": {
      "text/plain": [
       "['Saul', 'Juan', 'Gandul', 'Pepa']"
      ]
     },
     "execution_count": 30,
     "metadata": {},
     "output_type": "execute_result"
    }
   ],
   "source": [
    "names[0:4]"
   ]
  },
  {
   "cell_type": "code",
   "execution_count": 34,
   "id": "e5146e4e",
   "metadata": {},
   "outputs": [],
   "source": [
    "names = [\n",
    "    \"Saul\",\n",
    "    \"maria\",\n",
    "    \"Pedro\",\n",
    "    \"mariano\",\n",
    "]"
   ]
  },
  {
   "cell_type": "code",
   "execution_count": 37,
   "id": "dc852591",
   "metadata": {},
   "outputs": [],
   "source": [
    "names.append(\"Ana\")"
   ]
  },
  {
   "cell_type": "code",
   "execution_count": 38,
   "id": "29d918e0",
   "metadata": {},
   "outputs": [
    {
     "data": {
      "text/plain": [
       "['Saul', 'maria', 'Pedro', 'mariano', 'Ana']"
      ]
     },
     "execution_count": 38,
     "metadata": {},
     "output_type": "execute_result"
    }
   ],
   "source": [
    "names"
   ]
  },
  {
   "cell_type": "code",
   "execution_count": 39,
   "id": "d17d1a85",
   "metadata": {},
   "outputs": [],
   "source": [
    "# tuplas\n",
    "# Las tuplas son similares a las listas, pero son inmutables\n"
   ]
  },
  {
   "cell_type": "code",
   "execution_count": 40,
   "id": "46cd5012",
   "metadata": {},
   "outputs": [
    {
     "data": {
      "text/plain": [
       "5"
      ]
     },
     "execution_count": 40,
     "metadata": {},
     "output_type": "execute_result"
    }
   ],
   "source": [
    "len(names)"
   ]
  },
  {
   "cell_type": "code",
   "execution_count": 41,
   "id": "bc1f1e46",
   "metadata": {},
   "outputs": [],
   "source": [
    "names.insert(1, \"ruperto\")"
   ]
  },
  {
   "cell_type": "code",
   "execution_count": 42,
   "id": "d0f0631b",
   "metadata": {},
   "outputs": [
    {
     "data": {
      "text/plain": [
       "['Saul', 'ruperto', 'maria', 'Pedro', 'mariano', 'Ana']"
      ]
     },
     "execution_count": 42,
     "metadata": {},
     "output_type": "execute_result"
    }
   ],
   "source": [
    "names\n"
   ]
  },
  {
   "cell_type": "code",
   "execution_count": 43,
   "id": "a79e5bad",
   "metadata": {},
   "outputs": [],
   "source": [
    "# cambia el nombre de la posición 1 por marta\n",
    "names[1] = \"marta\""
   ]
  },
  {
   "cell_type": "code",
   "execution_count": 44,
   "id": "2c09ec85",
   "metadata": {},
   "outputs": [
    {
     "data": {
      "text/plain": [
       "['Saul', 'marta', 'maria', 'Pedro', 'mariano', 'Ana']"
      ]
     },
     "execution_count": 44,
     "metadata": {},
     "output_type": "execute_result"
    }
   ],
   "source": [
    "names"
   ]
  },
  {
   "cell_type": "code",
   "execution_count": 45,
   "id": "39abe2f8",
   "metadata": {},
   "outputs": [],
   "source": [
    "# tupla de nombres \n",
    "names_tuple = (\n",
    "                \"Saul\", \n",
    "                \"Maria\", \n",
    "                \"Pedro\", \n",
    "                \"Mariano\")"
   ]
  },
  {
   "cell_type": "code",
   "execution_count": 46,
   "id": "aba3b49f",
   "metadata": {},
   "outputs": [
    {
     "ename": "TypeError",
     "evalue": "'tuple' object does not support item assignment",
     "output_type": "error",
     "traceback": [
      "\u001b[31m---------------------------------------------------------------------------\u001b[39m",
      "\u001b[31mTypeError\u001b[39m                                 Traceback (most recent call last)",
      "\u001b[36mCell\u001b[39m\u001b[36m \u001b[39m\u001b[32mIn[46]\u001b[39m\u001b[32m, line 1\u001b[39m\n\u001b[32m----> \u001b[39m\u001b[32m1\u001b[39m \u001b[43mnames_tuple\u001b[49m\u001b[43m[\u001b[49m\u001b[32;43m1\u001b[39;49m\u001b[43m]\u001b[49m = \u001b[33m\"\u001b[39m\u001b[33mMarta\u001b[39m\u001b[33m\"\u001b[39m  \u001b[38;5;66;03m# Esto generará un error porque las tuplas son inmutables\u001b[39;00m\n",
      "\u001b[31mTypeError\u001b[39m: 'tuple' object does not support item assignment"
     ]
    }
   ],
   "source": [
    "names_tuple[1] = \"Marta\"  # Esto generará un error porque las tuplas son inmutables"
   ]
  },
  {
   "cell_type": "code",
   "execution_count": 47,
   "id": "7bb9e5d6",
   "metadata": {},
   "outputs": [],
   "source": [
    "# tuplas con numeros y caracteres\n",
    "tuple_2 = (20, \"Saul\", 30, \"Maria\", 40, \"Pedro\", 50, \"Mariano\")"
   ]
  },
  {
   "cell_type": "code",
   "execution_count": 52,
   "id": "dd009441",
   "metadata": {},
   "outputs": [],
   "source": [
    "# diccionarios \n",
    "dict1 = {\n",
    "    \"nombre\": \"Saul\",\n",
    "    \"edad\": 30,\n",
    "    \"peso\": 70.5,\n",
    "    \"comidas\": [\"pizza\", \"hamburguesa\", \"ensalada\"],\n",
    "    \"claves\": {\n",
    "               \"correo\":12345,\n",
    "               \"netflix\": 67890,\n",
    "    }\n",
    "}"
   ]
  },
  {
   "cell_type": "code",
   "execution_count": 50,
   "id": "952cd657",
   "metadata": {},
   "outputs": [
    {
     "data": {
      "text/plain": [
       "'Saul'"
      ]
     },
     "execution_count": 50,
     "metadata": {},
     "output_type": "execute_result"
    }
   ],
   "source": [
    "tuple_2[1\n",
    "        ]"
   ]
  },
  {
   "cell_type": "code",
   "execution_count": 51,
   "id": "00c4451d",
   "metadata": {},
   "outputs": [
    {
     "data": {
      "text/plain": [
       "'Saul'"
      ]
     },
     "execution_count": 51,
     "metadata": {},
     "output_type": "execute_result"
    }
   ],
   "source": [
    "dict1[\"nombre\"]  # Acceso al valor asociado a la clave \"nombre\""
   ]
  },
  {
   "cell_type": "code",
   "execution_count": 53,
   "id": "f178a46a",
   "metadata": {},
   "outputs": [
    {
     "data": {
      "text/plain": [
       "12345"
      ]
     },
     "execution_count": 53,
     "metadata": {},
     "output_type": "execute_result"
    }
   ],
   "source": [
    "dict1[\"claves\"][\"correo\"]  "
   ]
  },
  {
   "cell_type": "code",
   "execution_count": 54,
   "id": "2896f1f6",
   "metadata": {},
   "outputs": [
    {
     "data": {
      "text/plain": [
       "'pizza'"
      ]
     },
     "execution_count": 54,
     "metadata": {},
     "output_type": "execute_result"
    }
   ],
   "source": [
    "dict1[\"comidas\"][0]"
   ]
  }
 ],
 "metadata": {
  "kernelspec": {
   "display_name": ".venv",
   "language": "python",
   "name": "python3"
  },
  "language_info": {
   "codemirror_mode": {
    "name": "ipython",
    "version": 3
   },
   "file_extension": ".py",
   "mimetype": "text/x-python",
   "name": "python",
   "nbconvert_exporter": "python",
   "pygments_lexer": "ipython3",
   "version": "3.13.3"
  }
 },
 "nbformat": 4,
 "nbformat_minor": 5
}
